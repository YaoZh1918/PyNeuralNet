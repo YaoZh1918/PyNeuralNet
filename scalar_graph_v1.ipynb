{
 "cells": [
  {
   "cell_type": "code",
   "execution_count": 1,
   "metadata": {
    "collapsed": true
   },
   "outputs": [],
   "source": [
    "import numpy as np\n",
    "import abc"
   ]
  },
  {
   "cell_type": "markdown",
   "metadata": {},
   "source": [
    "# Baseclass"
   ]
  },
  {
   "cell_type": "code",
   "execution_count": 2,
   "metadata": {
    "collapsed": true
   },
   "outputs": [],
   "source": [
    "class Node(abc.ABC):\n",
    "    \n",
    "    @abc.abstractmethod\n",
    "    def forward(self):\n",
    "        \"\"\"Feed Forward\"\"\"\n",
    "    \n",
    "    @abc.abstractmethod\n",
    "    def backward(self, dout):\n",
    "        \"\"\"Back Propagate\n",
    "        Inputs:\n",
    "            dout: upstream gradient\"\"\"\n",
    "\n",
    "    @property\n",
    "    def grads(self):\n",
    "        return self._grads"
   ]
  },
  {
   "cell_type": "markdown",
   "metadata": {},
   "source": [
    "#  Variable"
   ]
  },
  {
   "cell_type": "code",
   "execution_count": 3,
   "metadata": {
    "collapsed": true
   },
   "outputs": [],
   "source": [
    "class Variable(Node):\n",
    "    \n",
    "    def __init__(self, val):\n",
    "        self._v = val\n",
    "    \n",
    "    def forward(self):\n",
    "        return self._v\n",
    "    \n",
    "    def backward(self, dout):\n",
    "        self._grads = dout"
   ]
  },
  {
   "cell_type": "markdown",
   "metadata": {},
   "source": [
    "# Binary"
   ]
  },
  {
   "cell_type": "code",
   "execution_count": 4,
   "metadata": {
    "collapsed": true
   },
   "outputs": [],
   "source": [
    "class Add(Node):\n",
    "    \n",
    "    def __init__(self, a, b):\n",
    "        self._a = a\n",
    "        self._b = b\n",
    "    \n",
    "    def forward(self):\n",
    "        v_a = self._a.forward()\n",
    "        v_b = self._b.forward()\n",
    "        # self._local_da = 1.\n",
    "        # self._local_db = 1.\n",
    "        return v_a + v_b\n",
    "    \n",
    "    def backward(self, dout):\n",
    "        self._grads = [dout, dout]\n",
    "        self._a.backward(dout)\n",
    "        self._b.backward(dout)\n",
    "\n",
    "\n",
    "class Mul(Node):\n",
    "    \n",
    "    def __init__(self, a, b):\n",
    "        self._a = a\n",
    "        self._b = b\n",
    "    \n",
    "    def forward(self):\n",
    "        v_a = self._a.forward()\n",
    "        v_b = self._b.forward()\n",
    "        self._local_da = v_b\n",
    "        self._local_db = v_a\n",
    "        return v_a * v_b\n",
    "    \n",
    "    def backward(self, dout):\n",
    "        da = self._local_da * dout\n",
    "        db = self._local_db * dout\n",
    "        self._grads = [da, db]\n",
    "        self._a.backward(da)\n",
    "        self._b.backward(db)"
   ]
  },
  {
   "cell_type": "markdown",
   "metadata": {},
   "source": [
    "# Unary"
   ]
  },
  {
   "cell_type": "code",
   "execution_count": 5,
   "metadata": {
    "collapsed": true
   },
   "outputs": [],
   "source": [
    "class Inv(Node):\n",
    "    \n",
    "    def __init__(self, a):\n",
    "        self._a = a\n",
    "    \n",
    "    def forward(self):\n",
    "        val = self._a.forward()\n",
    "        self._local_grads = - 1. / val**2\n",
    "        return 1. / val\n",
    "    \n",
    "    def backward(self, dout):\n",
    "        self._grads = self._local_grads * dout\n",
    "        self._a.backward(self._grads)\n",
    "        \n",
    "\n",
    "class Exp(Node):\n",
    "    \n",
    "    def __init__(self, a):\n",
    "        self._a = a\n",
    "    \n",
    "    def forward(self):\n",
    "        val = self._a.forward()\n",
    "        self._local_grads = np.exp(val)\n",
    "        return self._local_grads\n",
    "    \n",
    "    def backward(self, dout):\n",
    "        self._grads = self._local_grads * dout\n",
    "        self._a.backward(self._grads)"
   ]
  },
  {
   "cell_type": "markdown",
   "metadata": {},
   "source": [
    "# Test\n",
    "\n",
    "$$f(w,x) = \\frac{1}{1 + \\exp[-(w_1x_1 + w_2x_2 + b)]}$$"
   ]
  },
  {
   "cell_type": "code",
   "execution_count": 6,
   "metadata": {},
   "outputs": [
    {
     "name": "stdout",
     "output_type": "stream",
     "text": [
      "Values: \n",
      " 1.0 0.73105857863\n",
      "Gradients: \n",
      "-0.20, -0.39, 0.39, -0.59, 0.20\n"
     ]
    }
   ],
   "source": [
    "# Init variables\n",
    "w1, w2, x1, x2, b = [Variable(float(i)) for i in [2, -3, -1, -2, -3]]\n",
    "\n",
    "# build graph\n",
    "logit = Add(Add(Mul(w1, x1), Mul(w2, x2)), b)\n",
    "f = Inv(Add(Variable(1), Exp(Mul(logit, Variable(-1)))))\n",
    "\n",
    "# Eval\n",
    "print('Values: \\n', logit.forward(), f.forward())\n",
    "# BP\n",
    "f.backward(1.0)\n",
    "print('Gradients: ')\n",
    "print(', '.join('{:.2f}'.format(v.grads) for v in [w1, w2, x1, x2, b]))"
   ]
  },
  {
   "cell_type": "markdown",
   "metadata": {},
   "source": [
    "# A bug\n",
    "\n",
    "$$f = wx_1 + wx_2 = w(x_1+x_2)$$"
   ]
  },
  {
   "cell_type": "code",
   "execution_count": 7,
   "metadata": {},
   "outputs": [
    {
     "name": "stdout",
     "output_type": "stream",
     "text": [
      "Value: \n",
      " 15.0\n",
      "Gradients: \n",
      " [2.0, 5.0, 5.0]\n"
     ]
    }
   ],
   "source": [
    "w, x1, x2 = [Variable(float(i)) for i in [5, 1, 2]]\n",
    "f = Add(Mul(w, x1), Mul(w, x2))\n",
    "print('Value: \\n', f.forward())\n",
    "f.backward(1.)\n",
    "print('Gradients: \\n', [v.grads for v in [w, x1, x2]])"
   ]
  }
 ],
 "metadata": {
  "kernelspec": {
   "display_name": "Python 3",
   "language": "python",
   "name": "python3"
  },
  "language_info": {
   "codemirror_mode": {
    "name": "ipython",
    "version": 3
   },
   "file_extension": ".py",
   "mimetype": "text/x-python",
   "name": "python",
   "nbconvert_exporter": "python",
   "pygments_lexer": "ipython3",
   "version": "3.6.1"
  }
 },
 "nbformat": 4,
 "nbformat_minor": 2
}
