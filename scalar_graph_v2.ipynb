{
 "cells": [
  {
   "cell_type": "markdown",
   "metadata": {},
   "source": [
    "# Scalar Computation Graph v2\n",
    "\n",
    "## Now support weights sharing!"
   ]
  },
  {
   "cell_type": "code",
   "execution_count": 1,
   "metadata": {
    "collapsed": true
   },
   "outputs": [],
   "source": [
    "import numpy as np\n",
    "import abc\n",
    "\n",
    "\n",
    "topo_list = []  # Topological sort\n",
    "\n",
    "class Node(abc.ABC):\n",
    "    \n",
    "    def __init__(self):\n",
    "        topo_list.append(self)\n",
    "        self._dout = 0.0\n",
    "    \n",
    "    @abc.abstractmethod\n",
    "    def forward(self):\n",
    "        \"\"\"Feed Forward\"\"\"\n",
    "    \n",
    "    @abc.abstractmethod\n",
    "    def backward(self):\n",
    "        \"\"\"Back Propagate\"\"\"\n",
    "    \n",
    "    def as_terminal(self):\n",
    "        \"\"\"Let the node be the terminal \"\"\"\n",
    "        self._dout = 1.\n",
    "        return self\n",
    "    \n",
    "    def propagte(self, dout):\n",
    "        \"\"\"Aggregate upstream gradients.\"\"\"\n",
    "        self._dout += dout\n",
    "\n",
    "    @property\n",
    "    def grads(self):\n",
    "        return self._grads"
   ]
  },
  {
   "cell_type": "code",
   "execution_count": 2,
   "metadata": {
    "collapsed": true
   },
   "outputs": [],
   "source": [
    "class Variable(Node):\n",
    "    \n",
    "    def __init__(self, val):\n",
    "        super().__init__()\n",
    "        self._v = val\n",
    "    \n",
    "    def forward(self):\n",
    "        return self._v\n",
    "    \n",
    "    def backward(self):\n",
    "        self._grads = self._dout\n",
    "\n",
    "        \n",
    "class Add(Node):\n",
    "    \n",
    "    def __init__(self, a, b):\n",
    "        super().__init__()\n",
    "        self._a = a\n",
    "        self._b = b\n",
    "    \n",
    "    def forward(self):\n",
    "        v_a = self._a.forward()\n",
    "        v_b = self._b.forward()\n",
    "        return v_a + v_b\n",
    "    \n",
    "    def backward(self):\n",
    "        dout = self._dout\n",
    "        self._grads = [dout, dout]\n",
    "        self._a.propagte(dout)\n",
    "        self._b.propagte(dout)\n",
    "\n",
    "\n",
    "class Mul(Node):\n",
    "    \n",
    "    def __init__(self, a, b):\n",
    "        super().__init__()\n",
    "        self._a = a\n",
    "        self._b = b\n",
    "    \n",
    "    def forward(self):\n",
    "        v_a = self._a.forward()\n",
    "        v_b = self._b.forward()\n",
    "        self._local_da = v_b\n",
    "        self._local_db = v_a\n",
    "        return v_a * v_b\n",
    "    \n",
    "    def backward(self):\n",
    "        dout = self._dout\n",
    "        da = self._local_da * dout\n",
    "        db = self._local_db * dout\n",
    "        self._grads = [da, db]\n",
    "        self._a.propagte(da)\n",
    "        self._b.propagte(db)\n",
    "        \n",
    "\n",
    "class Inv(Node):\n",
    "    \n",
    "    def __init__(self, a):\n",
    "        super().__init__()\n",
    "        self._a = a\n",
    "    \n",
    "    def forward(self):\n",
    "        val = self._a.forward()\n",
    "        self._local_grads = - 1. / val**2\n",
    "        return 1. / val\n",
    "    \n",
    "    def backward(self):\n",
    "        dout = self._dout\n",
    "        self._grads = self._local_grads * dout\n",
    "        self._a.propagte(self._grads)\n",
    "        \n",
    "\n",
    "class Exp(Node):\n",
    "    \n",
    "    def __init__(self, a):\n",
    "        super().__init__()\n",
    "        self._a = a\n",
    "    \n",
    "    def forward(self):\n",
    "        val = self._a.forward()\n",
    "        self._local_grads = np.exp(val)\n",
    "        return self._local_grads\n",
    "    \n",
    "    def backward(self):\n",
    "        dout = self._dout\n",
    "        self._grads = self._local_grads * dout\n",
    "        self._a.propagte(self._grads)"
   ]
  },
  {
   "cell_type": "markdown",
   "metadata": {},
   "source": [
    "# Test"
   ]
  },
  {
   "cell_type": "code",
   "execution_count": 3,
   "metadata": {},
   "outputs": [
    {
     "name": "stdout",
     "output_type": "stream",
     "text": [
      "Forward:\n",
      "2.00 -3.00 -1.00 -2.00 -3.00 -2.00 6.00 4.00 1.00 1.00 -1.00 -1.00 0.37 1.37 0.73\n",
      "Backward:\n",
      "-0.20, -0.39, 0.39, -0.59, 0.20\n"
     ]
    }
   ],
   "source": [
    "# init\n",
    "topo_list = []\n",
    "w1, w2, x1, x2, b = [Variable(float(i)) for i in [2, -3, -1, -2, -3]]\n",
    "\n",
    "# build graph\n",
    "logit = Add(Add(Mul(w1, x1), Mul(w2, x2)), b)\n",
    "f = Inv(Add(Variable(1), Exp(Mul(logit, Variable(-1)))))\n",
    "\n",
    "# forward\n",
    "print('Forward:')\n",
    "print(*('{:.2f}'.format(v.forward()) for v in topo_list))\n",
    "\n",
    "# backward\n",
    "f.as_terminal()\n",
    "for v in reversed(topo_list):\n",
    "    v.backward()\n",
    "print('Backward:')\n",
    "print(', '.join('{:.2f}'.format(v.grads) for v in [w1, w2, x1, x2, b]))"
   ]
  },
  {
   "cell_type": "markdown",
   "metadata": {},
   "source": [
    "# Bug fixed!"
   ]
  },
  {
   "cell_type": "code",
   "execution_count": 4,
   "metadata": {},
   "outputs": [
    {
     "name": "stdout",
     "output_type": "stream",
     "text": [
      "Value: \n",
      " 15.0\n",
      "Gradients: \n",
      " [3.0, 5.0, 5.0]\n"
     ]
    }
   ],
   "source": [
    "topo_list = []\n",
    "\n",
    "w, x1, x2 = [Variable(float(i)) for i in [5, 1, 2]]\n",
    "f = Add(Mul(w, x1), Mul(w, x2))\n",
    "print('Value: \\n', f.forward())\n",
    "\n",
    "f.as_terminal()\n",
    "for v in reversed(topo_list):\n",
    "    v.backward()\n",
    "print('Gradients: \\n', [v.grads for v in [w, x1, x2]])"
   ]
  }
 ],
 "metadata": {
  "kernelspec": {
   "display_name": "Python 3",
   "language": "python",
   "name": "python3"
  },
  "language_info": {
   "codemirror_mode": {
    "name": "ipython",
    "version": 3
   },
   "file_extension": ".py",
   "mimetype": "text/x-python",
   "name": "python",
   "nbconvert_exporter": "python",
   "pygments_lexer": "ipython3",
   "version": "3.6.1"
  }
 },
 "nbformat": 4,
 "nbformat_minor": 2
}
